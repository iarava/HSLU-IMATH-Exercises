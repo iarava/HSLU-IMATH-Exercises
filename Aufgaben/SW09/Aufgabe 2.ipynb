{
 "cells": [
  {
   "cell_type": "code",
   "execution_count": 65,
   "metadata": {},
   "outputs": [
    {
     "name": "stdout",
     "output_type": "stream",
     "text": [
      "h = 0.1 \tfdiff = 1.0517091807564771 \trel Error = -0.051709180756477124\n",
      "h = 0.01 \tfdiff = 1.005016708416795 \trel Error = -0.005016708416794913\n",
      "h = 0.001 \tfdiff = 1.0005001667083846 \trel Error = -0.0005001667083845973\n",
      "h = 0.0001 \tfdiff = 1.000050001667141 \trel Error = -5.0001667140975314e-05\n",
      "h = 1e-05 \tfdiff = 1.000005000006965 \trel Error = -5.000006964905879e-06\n",
      "h = 1e-06 \tfdiff = 1.0000004999621837 \trel Error = -4.999621836532242e-07\n",
      "h = 1e-07 \tfdiff = 1.0000000494336803 \trel Error = -4.943368026033568e-08\n",
      "h = 1e-08 \tfdiff = 0.999999993922529 \trel Error = 6.07747097092215e-09\n",
      "h = 1e-09 \tfdiff = 1.000000082740371 \trel Error = -8.274037099909037e-08\n",
      "h = 1e-10 \tfdiff = 1.000000082740371 \trel Error = -8.274037099909037e-08\n",
      "h = 1e-11 \tfdiff = 1.000000082740371 \trel Error = -8.274037099909037e-08\n",
      "h = 1e-12 \tfdiff = 1.000088900582341 \trel Error = -8.890058234101161e-05\n",
      "h = 1e-13 \tfdiff = 0.9992007221626409 \trel Error = 0.0007992778373591136\n",
      "h = 1e-14 \tfdiff = 0.9992007221626409 \trel Error = 0.0007992778373591136\n",
      "h = 1e-15 \tfdiff = 1.1102230246251565 \trel Error = -0.11022302462515654\n",
      "h = 1e-16 \tfdiff = 0.0 \trel Error = 1.0\n"
     ]
    },
    {
     "data": {
      "image/png": "[encoded data removed]",
      "text/plain": [
       "<Figure size 432x288 with 1 Axes>"
      ]
     },
     "metadata": {
      "needs_background": "light"
     },
     "output_type": "display_data"
    }
   ],
   "source": [
    "import math\n",
    "import numpy as np\n",
    "import matplotlib.pyplot as plt\n",
    "\n",
    "x = 0\n",
    "fx = math.exp(x)\n",
    "fdiff = np.zeros(16)\n",
    "error = np.zeros(16)\n",
    "for n in range(1,17):\n",
    "    h = 10**-n\n",
    "    fxh = math.exp(x+h)\n",
    "    fd = (fxh - fx)/ h\n",
    "    fdiff[n-1] = fd\n",
    "    error[n-1] = (fx-fd)/fx\n",
    "    print('h =',h,'\\tfdiff =',fdiff[n-1],'\\trel Error =',error[n-1])\n",
    "plt.plot(range(1,17),error)\n",
    "plt.show()"
   ]
  },
  {
   "cell_type": "code",
   "execution_count": 48,
   "metadata": {},
   "outputs": [
    {
     "data": {
      "text/plain": [
       "array([0., 1., 0., 0.])"
      ]
     },
     "execution_count": 48,
     "metadata": {},
     "output_type": "execute_result"
    }
   ],
   "source": []
  }
 ],
 "metadata": {
  "kernelspec": {
   "display_name": "Python 3",
   "language": "python",
   "name": "python3"
  },
  "language_info": {
   "codemirror_mode": {
    "name": "ipython",
    "version": 3
   },
   "file_extension": ".py",
   "mimetype": "text/x-python",
   "name": "python",
   "nbconvert_exporter": "python",
   "pygments_lexer": "ipython3",
   "version": "3.7.0"
  }
 },
 "nbformat": 4,
 "nbformat_minor": 2
}
